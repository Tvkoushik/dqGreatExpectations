{
 "cells": [
  {
   "cell_type": "code",
   "execution_count": 6,
   "id": "47162a45",
   "metadata": {},
   "outputs": [],
   "source": [
    "import great_expectations as ge\n",
    "from csv import reader,writer\n",
    "import os\n",
    "import datetime"
   ]
  },
  {
   "cell_type": "code",
   "execution_count": 7,
   "id": "a893f822",
   "metadata": {},
   "outputs": [],
   "source": [
    "def read_csv_file(file_path : str):\n",
    "    return ge.read_csv(file_path)"
   ]
  },
  {
   "cell_type": "code",
   "execution_count": 8,
   "id": "607a39f1",
   "metadata": {},
   "outputs": [],
   "source": [
    "def validate_expectations(data_frame,expectation_file_path):\n",
    "    return data_frame.validate(expectation_suite= expectation_file_path)"
   ]
  },
  {
   "cell_type": "code",
   "execution_count": 9,
   "id": "b7db8b19",
   "metadata": {},
   "outputs": [],
   "source": [
    "HEADER=[\"FILE_NAME\",\"COLUMN_NAME\",\"TEST_TYPE\",\"TEST_STATUS\",\"TOTAL_EVALUATIONS\",\"EVALUATIONS_PASSED\",\"EVALUATIONS_FAILED\",\"SUCCESS_RATIO\",\"VALIDATION_TIME\",\"CURRENT_TIME\"]"
   ]
  },
  {
   "cell_type": "code",
   "execution_count": 10,
   "id": "465a381c",
   "metadata": {},
   "outputs": [],
   "source": [
    "# skip first line i.e. read header first and then iterate over each row od csv as a list\n",
    "with open('./config/file_config.csv', 'r') as read_obj:\n",
    "    csv_file = open(\"./output/validation_result.csv\", \"w\")\n",
    "    csv_file.write(\",\".join(HEADER))\n",
    "    csv_file.write(\"\\n\")\n",
    "    csv_reader = reader(read_obj)\n",
    "    header = next(csv_reader)\n",
    "    # Check file as empty\n",
    "    if header != None:\n",
    "        # Iterate over each row after the header in the csv\n",
    "        for file_path,expectation_file_path in csv_reader:\n",
    "            \n",
    "            # row variable is a list that represents a row in csv\n",
    "            file_name=os.path.basename(file_path)\n",
    "            current_time = datetime.datetime.now().strftime(\"%d/%m/%Y %H:%M:%S\")\n",
    "            df = read_csv_file(file_path)\n",
    "            result = validate_expectations(df,expectation_file_path)\n",
    "            total_evaluations=str(result[\"statistics\"][\"evaluated_expectations\"])\n",
    "            evaluations_passed=str(result[\"statistics\"][\"successful_expectations\"])\n",
    "            evaluations_failed=str(result[\"statistics\"][\"unsuccessful_expectations\"])\n",
    "            success_ratio=str(result[\"statistics\"][\"success_percent\"])\n",
    "            validation_time=result[\"meta\"][\"validation_time\"]\n",
    "            for test in result[\"results\"]:\n",
    "                test_type=test[\"expectation_config\"][\"expectation_type\"]\n",
    "                test_status=str(test[\"success\"])\n",
    "                column_name=test[\"expectation_config\"][\"kwargs\"][\"column\"]\n",
    "                line = [file_name,column_name,test_type,test_status,total_evaluations,evaluations_passed,evaluations_failed,success_ratio,validation_time,current_time]\n",
    "                csv_file.write(','.join(line))\n",
    "                csv_file.write('\\n')\n",
    "                \n",
    "    csv_file.close()"
   ]
  },
  {
   "cell_type": "code",
   "execution_count": null,
   "id": "6b534b7c",
   "metadata": {},
   "outputs": [],
   "source": []
  }
 ],
 "metadata": {
  "kernelspec": {
   "display_name": "Python 3 (ipykernel)",
   "language": "python",
   "name": "python3"
  },
  "language_info": {
   "codemirror_mode": {
    "name": "ipython",
    "version": 3
   },
   "file_extension": ".py",
   "mimetype": "text/x-python",
   "name": "python",
   "nbconvert_exporter": "python",
   "pygments_lexer": "ipython3",
   "version": "3.10.11"
  },
  "vscode": {
   "interpreter": {
    "hash": "b0fa6594d8f4cbf19f97940f81e996739fb7646882a419484c72d19e05852a7e"
   }
  }
 },
 "nbformat": 4,
 "nbformat_minor": 5
}
